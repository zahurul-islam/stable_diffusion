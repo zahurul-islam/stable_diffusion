{
 "cells": [
  {
   "cell_type": "markdown",
   "id": "7a1fdcf8-0c89-4322-850f-987cf1f1bf3c",
   "metadata": {},
   "source": [
    "#### Stable Diffusion is a text-to-image latent diffusion model created by the researchers from CompVis, Stability AI and LAION. Tha paper available here: https://arxiv.org/abs/2112.10752. The model is trained on 512x512 images from a subset of the LAION-5B database. This model uses a frozen CLIP ViT-L/14 text encoder to condition the model on text prompts. With its 860M UNet and 123M text encoder, the model is relatively lightweight and runs on a GPU with at least 10GB VRAM. "
   ]
  },
  {
   "cell_type": "markdown",
   "id": "f11e57c3-59ad-436c-b560-fb386287e328",
   "metadata": {},
   "source": [
    "#### Please make sure you are using a GPU runtime in order to run this notebook."
   ]
  },
  {
   "cell_type": "markdown",
   "id": "b2de65a9-134f-4532-afc9-f05e6bfb9f66",
   "metadata": {},
   "source": [
    "#### We need to install install diffusers==0.4.0, transformers, torch and ipywidgets"
   ]
  },
  {
   "cell_type": "code",
   "execution_count": 1,
   "id": "90cc2a8d-ab73-4320-83ab-acda832e3a3d",
   "metadata": {},
   "outputs": [
    {
     "name": "stdout",
     "output_type": "stream",
     "text": [
      "Collecting diffusers==0.4.0\n",
      "  Downloading diffusers-0.4.0-py3-none-any.whl (229 kB)\n",
      "\u001b[2K     \u001b[90m━━━━━━━━━━━━━━━━━━━━━━━━━━━━━━━━━━━━━━━\u001b[0m \u001b[32m229.1/229.1 kB\u001b[0m \u001b[31m3.7 MB/s\u001b[0m eta \u001b[36m0:00:00\u001b[0ma \u001b[36m0:00:01\u001b[0m\n",
      "\u001b[?25hRequirement already satisfied: regex!=2019.12.17 in /Users/zahurul/miniforge3/envs/torch-gpu/lib/python3.10/site-packages (from diffusers==0.4.0) (2022.7.9)\n",
      "Requirement already satisfied: numpy in /Users/zahurul/miniforge3/envs/torch-gpu/lib/python3.10/site-packages (from diffusers==0.4.0) (1.22.4)\n",
      "Requirement already satisfied: Pillow<10.0 in /Users/zahurul/miniforge3/envs/torch-gpu/lib/python3.10/site-packages (from diffusers==0.4.0) (9.2.0)\n",
      "Requirement already satisfied: requests in /Users/zahurul/miniforge3/envs/torch-gpu/lib/python3.10/site-packages (from diffusers==0.4.0) (2.28.1)\n",
      "Requirement already satisfied: importlib-metadata in /Users/zahurul/miniforge3/envs/torch-gpu/lib/python3.10/site-packages (from diffusers==0.4.0) (4.11.3)\n",
      "Requirement already satisfied: huggingface-hub>=0.10.0 in /Users/zahurul/miniforge3/envs/torch-gpu/lib/python3.10/site-packages (from diffusers==0.4.0) (0.10.1)\n",
      "Requirement already satisfied: filelock in /Users/zahurul/miniforge3/envs/torch-gpu/lib/python3.10/site-packages (from diffusers==0.4.0) (3.6.0)\n",
      "Requirement already satisfied: torch>=1.4 in /Users/zahurul/miniforge3/envs/torch-gpu/lib/python3.10/site-packages (from diffusers==0.4.0) (1.13.0.dev20220913)\n",
      "Requirement already satisfied: pyyaml>=5.1 in /Users/zahurul/miniforge3/envs/torch-gpu/lib/python3.10/site-packages (from huggingface-hub>=0.10.0->diffusers==0.4.0) (6.0)\n",
      "Requirement already satisfied: tqdm in /Users/zahurul/miniforge3/envs/torch-gpu/lib/python3.10/site-packages (from huggingface-hub>=0.10.0->diffusers==0.4.0) (4.64.0)\n",
      "Requirement already satisfied: typing-extensions>=3.7.4.3 in /Users/zahurul/miniforge3/envs/torch-gpu/lib/python3.10/site-packages (from huggingface-hub>=0.10.0->diffusers==0.4.0) (4.3.0)\n",
      "Requirement already satisfied: packaging>=20.9 in /Users/zahurul/miniforge3/envs/torch-gpu/lib/python3.10/site-packages (from huggingface-hub>=0.10.0->diffusers==0.4.0) (21.3)\n",
      "Requirement already satisfied: zipp>=0.5 in /Users/zahurul/miniforge3/envs/torch-gpu/lib/python3.10/site-packages (from importlib-metadata->diffusers==0.4.0) (3.8.1)\n",
      "Requirement already satisfied: certifi>=2017.4.17 in /Users/zahurul/miniforge3/envs/torch-gpu/lib/python3.10/site-packages (from requests->diffusers==0.4.0) (2022.9.24)\n",
      "Requirement already satisfied: idna<4,>=2.5 in /Users/zahurul/miniforge3/envs/torch-gpu/lib/python3.10/site-packages (from requests->diffusers==0.4.0) (3.3)\n",
      "Requirement already satisfied: urllib3<1.27,>=1.21.1 in /Users/zahurul/miniforge3/envs/torch-gpu/lib/python3.10/site-packages (from requests->diffusers==0.4.0) (1.26.11)\n",
      "Requirement already satisfied: charset-normalizer<3,>=2 in /Users/zahurul/miniforge3/envs/torch-gpu/lib/python3.10/site-packages (from requests->diffusers==0.4.0) (2.0.4)\n",
      "Requirement already satisfied: pyparsing!=3.0.5,>=2.0.2 in /Users/zahurul/miniforge3/envs/torch-gpu/lib/python3.10/site-packages (from packaging>=20.9->huggingface-hub>=0.10.0->diffusers==0.4.0) (3.0.9)\n",
      "Installing collected packages: diffusers\n",
      "  Attempting uninstall: diffusers\n",
      "    Found existing installation: diffusers 0.7.2\n",
      "    Uninstalling diffusers-0.7.2:\n",
      "      Successfully uninstalled diffusers-0.7.2\n",
      "Successfully installed diffusers-0.4.0\n",
      "Requirement already satisfied: transformers in /Users/zahurul/miniforge3/envs/torch-gpu/lib/python3.10/site-packages (4.23.1)\n",
      "Requirement already satisfied: tokenizers!=0.11.3,<0.14,>=0.11.1 in /Users/zahurul/miniforge3/envs/torch-gpu/lib/python3.10/site-packages (from transformers) (0.11.4)\n",
      "Requirement already satisfied: pyyaml>=5.1 in /Users/zahurul/miniforge3/envs/torch-gpu/lib/python3.10/site-packages (from transformers) (6.0)\n",
      "Requirement already satisfied: tqdm>=4.27 in /Users/zahurul/miniforge3/envs/torch-gpu/lib/python3.10/site-packages (from transformers) (4.64.0)\n",
      "Requirement already satisfied: filelock in /Users/zahurul/miniforge3/envs/torch-gpu/lib/python3.10/site-packages (from transformers) (3.6.0)\n",
      "Requirement already satisfied: requests in /Users/zahurul/miniforge3/envs/torch-gpu/lib/python3.10/site-packages (from transformers) (2.28.1)\n",
      "Requirement already satisfied: numpy>=1.17 in /Users/zahurul/miniforge3/envs/torch-gpu/lib/python3.10/site-packages (from transformers) (1.22.4)\n",
      "Requirement already satisfied: regex!=2019.12.17 in /Users/zahurul/miniforge3/envs/torch-gpu/lib/python3.10/site-packages (from transformers) (2022.7.9)\n",
      "Requirement already satisfied: packaging>=20.0 in /Users/zahurul/miniforge3/envs/torch-gpu/lib/python3.10/site-packages (from transformers) (21.3)\n",
      "Requirement already satisfied: huggingface-hub<1.0,>=0.10.0 in /Users/zahurul/miniforge3/envs/torch-gpu/lib/python3.10/site-packages (from transformers) (0.10.1)\n",
      "Requirement already satisfied: typing-extensions>=3.7.4.3 in /Users/zahurul/miniforge3/envs/torch-gpu/lib/python3.10/site-packages (from huggingface-hub<1.0,>=0.10.0->transformers) (4.3.0)\n",
      "Requirement already satisfied: pyparsing!=3.0.5,>=2.0.2 in /Users/zahurul/miniforge3/envs/torch-gpu/lib/python3.10/site-packages (from packaging>=20.0->transformers) (3.0.9)\n",
      "Requirement already satisfied: idna<4,>=2.5 in /Users/zahurul/miniforge3/envs/torch-gpu/lib/python3.10/site-packages (from requests->transformers) (3.3)\n",
      "Requirement already satisfied: certifi>=2017.4.17 in /Users/zahurul/miniforge3/envs/torch-gpu/lib/python3.10/site-packages (from requests->transformers) (2022.9.24)\n",
      "Requirement already satisfied: charset-normalizer<3,>=2 in /Users/zahurul/miniforge3/envs/torch-gpu/lib/python3.10/site-packages (from requests->transformers) (2.0.4)\n",
      "Requirement already satisfied: urllib3<1.27,>=1.21.1 in /Users/zahurul/miniforge3/envs/torch-gpu/lib/python3.10/site-packages (from requests->transformers) (1.26.11)\n",
      "Collecting ipywidgets<8,>=7\n",
      "  Downloading ipywidgets-7.7.2-py2.py3-none-any.whl (123 kB)\n",
      "\u001b[2K     \u001b[90m━━━━━━━━━━━━━━━━━━━━━━━━━━━━━━━━━━━━━━━\u001b[0m \u001b[32m123.4/123.4 kB\u001b[0m \u001b[31m2.1 MB/s\u001b[0m eta \u001b[36m0:00:00\u001b[0ma \u001b[36m0:00:01\u001b[0m\n",
      "\u001b[?25hRequirement already satisfied: traitlets>=4.3.1 in /Users/zahurul/miniforge3/envs/torch-gpu/lib/python3.10/site-packages (from ipywidgets<8,>=7) (5.4.0)\n",
      "Collecting widgetsnbextension~=3.6.0\n",
      "  Downloading widgetsnbextension-3.6.1-py2.py3-none-any.whl (1.6 MB)\n",
      "\u001b[2K     \u001b[90m━━━━━━━━━━━━━━━━━━━━━━━━━━━━━━━━━━━━━━━━\u001b[0m \u001b[32m1.6/1.6 MB\u001b[0m \u001b[31m7.4 MB/s\u001b[0m eta \u001b[36m0:00:00\u001b[0m00:01\u001b[0m00:01\u001b[0mm\n",
      "\u001b[?25hRequirement already satisfied: ipykernel>=4.5.1 in /Users/zahurul/miniforge3/envs/torch-gpu/lib/python3.10/site-packages (from ipywidgets<8,>=7) (6.15.3)\n",
      "Requirement already satisfied: ipython-genutils~=0.2.0 in /Users/zahurul/miniforge3/envs/torch-gpu/lib/python3.10/site-packages (from ipywidgets<8,>=7) (0.2.0)\n",
      "Requirement already satisfied: ipython>=4.0.0 in /Users/zahurul/miniforge3/envs/torch-gpu/lib/python3.10/site-packages (from ipywidgets<8,>=7) (8.5.0)\n",
      "Collecting jupyterlab-widgets<3,>=1.0.0\n",
      "  Downloading jupyterlab_widgets-1.1.1-py3-none-any.whl (245 kB)\n",
      "\u001b[2K     \u001b[90m━━━━━━━━━━━━━━━━━━━━━━━━━━━━━━━━━━━━━━\u001b[0m \u001b[32m245.3/245.3 kB\u001b[0m \u001b[31m10.6 MB/s\u001b[0m eta \u001b[36m0:00:00\u001b[0m\n",
      "\u001b[?25hRequirement already satisfied: nest-asyncio in /Users/zahurul/miniforge3/envs/torch-gpu/lib/python3.10/site-packages (from ipykernel>=4.5.1->ipywidgets<8,>=7) (1.5.5)\n",
      "Requirement already satisfied: pyzmq>=17 in /Users/zahurul/miniforge3/envs/torch-gpu/lib/python3.10/site-packages (from ipykernel>=4.5.1->ipywidgets<8,>=7) (23.2.0)\n",
      "Requirement already satisfied: debugpy>=1.0 in /Users/zahurul/miniforge3/envs/torch-gpu/lib/python3.10/site-packages (from ipykernel>=4.5.1->ipywidgets<8,>=7) (1.5.1)\n",
      "Requirement already satisfied: appnope in /Users/zahurul/miniforge3/envs/torch-gpu/lib/python3.10/site-packages (from ipykernel>=4.5.1->ipywidgets<8,>=7) (0.1.3)\n",
      "Requirement already satisfied: psutil in /Users/zahurul/miniforge3/envs/torch-gpu/lib/python3.10/site-packages (from ipykernel>=4.5.1->ipywidgets<8,>=7) (5.9.0)\n",
      "Requirement already satisfied: jupyter-client>=6.1.12 in /Users/zahurul/miniforge3/envs/torch-gpu/lib/python3.10/site-packages (from ipykernel>=4.5.1->ipywidgets<8,>=7) (7.3.5)\n",
      "Requirement already satisfied: matplotlib-inline>=0.1 in /Users/zahurul/miniforge3/envs/torch-gpu/lib/python3.10/site-packages (from ipykernel>=4.5.1->ipywidgets<8,>=7) (0.1.6)\n",
      "Requirement already satisfied: packaging in /Users/zahurul/miniforge3/envs/torch-gpu/lib/python3.10/site-packages (from ipykernel>=4.5.1->ipywidgets<8,>=7) (21.3)\n",
      "Requirement already satisfied: tornado>=6.1 in /Users/zahurul/miniforge3/envs/torch-gpu/lib/python3.10/site-packages (from ipykernel>=4.5.1->ipywidgets<8,>=7) (6.2)\n",
      "Requirement already satisfied: stack-data in /Users/zahurul/miniforge3/envs/torch-gpu/lib/python3.10/site-packages (from ipython>=4.0.0->ipywidgets<8,>=7) (0.5.0)\n",
      "Requirement already satisfied: backcall in /Users/zahurul/miniforge3/envs/torch-gpu/lib/python3.10/site-packages (from ipython>=4.0.0->ipywidgets<8,>=7) (0.2.0)\n",
      "Requirement already satisfied: prompt-toolkit<3.1.0,>3.0.1 in /Users/zahurul/miniforge3/envs/torch-gpu/lib/python3.10/site-packages (from ipython>=4.0.0->ipywidgets<8,>=7) (3.0.31)\n",
      "Requirement already satisfied: jedi>=0.16 in /Users/zahurul/miniforge3/envs/torch-gpu/lib/python3.10/site-packages (from ipython>=4.0.0->ipywidgets<8,>=7) (0.18.1)\n",
      "Requirement already satisfied: pygments>=2.4.0 in /Users/zahurul/miniforge3/envs/torch-gpu/lib/python3.10/site-packages (from ipython>=4.0.0->ipywidgets<8,>=7) (2.13.0)\n",
      "Requirement already satisfied: pickleshare in /Users/zahurul/miniforge3/envs/torch-gpu/lib/python3.10/site-packages (from ipython>=4.0.0->ipywidgets<8,>=7) (0.7.5)\n",
      "Requirement already satisfied: decorator in /Users/zahurul/miniforge3/envs/torch-gpu/lib/python3.10/site-packages (from ipython>=4.0.0->ipywidgets<8,>=7) (5.1.1)\n",
      "Requirement already satisfied: pexpect>4.3 in /Users/zahurul/miniforge3/envs/torch-gpu/lib/python3.10/site-packages (from ipython>=4.0.0->ipywidgets<8,>=7) (4.8.0)\n",
      "Requirement already satisfied: notebook>=4.4.1 in /Users/zahurul/miniforge3/envs/torch-gpu/lib/python3.10/site-packages (from widgetsnbextension~=3.6.0->ipywidgets<8,>=7) (6.4.12)\n",
      "Requirement already satisfied: parso<0.9.0,>=0.8.0 in /Users/zahurul/miniforge3/envs/torch-gpu/lib/python3.10/site-packages (from jedi>=0.16->ipython>=4.0.0->ipywidgets<8,>=7) (0.8.3)\n",
      "Requirement already satisfied: jupyter-core>=4.9.2 in /Users/zahurul/miniforge3/envs/torch-gpu/lib/python3.10/site-packages (from jupyter-client>=6.1.12->ipykernel>=4.5.1->ipywidgets<8,>=7) (4.10.0)\n",
      "Requirement already satisfied: entrypoints in /Users/zahurul/miniforge3/envs/torch-gpu/lib/python3.10/site-packages (from jupyter-client>=6.1.12->ipykernel>=4.5.1->ipywidgets<8,>=7) (0.4)\n",
      "Requirement already satisfied: python-dateutil>=2.8.2 in /Users/zahurul/miniforge3/envs/torch-gpu/lib/python3.10/site-packages (from jupyter-client>=6.1.12->ipykernel>=4.5.1->ipywidgets<8,>=7) (2.8.2)\n",
      "Requirement already satisfied: argon2-cffi in /Users/zahurul/miniforge3/envs/torch-gpu/lib/python3.10/site-packages (from notebook>=4.4.1->widgetsnbextension~=3.6.0->ipywidgets<8,>=7) (21.3.0)\n",
      "Requirement already satisfied: nbformat in /Users/zahurul/miniforge3/envs/torch-gpu/lib/python3.10/site-packages (from notebook>=4.4.1->widgetsnbextension~=3.6.0->ipywidgets<8,>=7) (5.5.0)\n",
      "Requirement already satisfied: Send2Trash>=1.8.0 in /Users/zahurul/miniforge3/envs/torch-gpu/lib/python3.10/site-packages (from notebook>=4.4.1->widgetsnbextension~=3.6.0->ipywidgets<8,>=7) (1.8.0)\n",
      "Requirement already satisfied: terminado>=0.8.3 in /Users/zahurul/miniforge3/envs/torch-gpu/lib/python3.10/site-packages (from notebook>=4.4.1->widgetsnbextension~=3.6.0->ipywidgets<8,>=7) (0.13.1)\n",
      "Requirement already satisfied: nbconvert>=5 in /Users/zahurul/miniforge3/envs/torch-gpu/lib/python3.10/site-packages (from notebook>=4.4.1->widgetsnbextension~=3.6.0->ipywidgets<8,>=7) (7.0.0)\n",
      "Requirement already satisfied: jinja2 in /Users/zahurul/miniforge3/envs/torch-gpu/lib/python3.10/site-packages (from notebook>=4.4.1->widgetsnbextension~=3.6.0->ipywidgets<8,>=7) (3.1.2)\n",
      "Requirement already satisfied: prometheus-client in /Users/zahurul/miniforge3/envs/torch-gpu/lib/python3.10/site-packages (from notebook>=4.4.1->widgetsnbextension~=3.6.0->ipywidgets<8,>=7) (0.14.1)\n",
      "Requirement already satisfied: ptyprocess>=0.5 in /Users/zahurul/miniforge3/envs/torch-gpu/lib/python3.10/site-packages (from pexpect>4.3->ipython>=4.0.0->ipywidgets<8,>=7) (0.7.0)\n",
      "Requirement already satisfied: wcwidth in /Users/zahurul/miniforge3/envs/torch-gpu/lib/python3.10/site-packages (from prompt-toolkit<3.1.0,>3.0.1->ipython>=4.0.0->ipywidgets<8,>=7) (0.2.5)\n",
      "Requirement already satisfied: pyparsing!=3.0.5,>=2.0.2 in /Users/zahurul/miniforge3/envs/torch-gpu/lib/python3.10/site-packages (from packaging->ipykernel>=4.5.1->ipywidgets<8,>=7) (3.0.9)\n",
      "Requirement already satisfied: executing in /Users/zahurul/miniforge3/envs/torch-gpu/lib/python3.10/site-packages (from stack-data->ipython>=4.0.0->ipywidgets<8,>=7) (1.0.0)\n",
      "Requirement already satisfied: asttokens in /Users/zahurul/miniforge3/envs/torch-gpu/lib/python3.10/site-packages (from stack-data->ipython>=4.0.0->ipywidgets<8,>=7) (2.0.8)\n",
      "Requirement already satisfied: pure-eval in /Users/zahurul/miniforge3/envs/torch-gpu/lib/python3.10/site-packages (from stack-data->ipython>=4.0.0->ipywidgets<8,>=7) (0.2.2)\n",
      "Requirement already satisfied: pandocfilters>=1.4.1 in /Users/zahurul/miniforge3/envs/torch-gpu/lib/python3.10/site-packages (from nbconvert>=5->notebook>=4.4.1->widgetsnbextension~=3.6.0->ipywidgets<8,>=7) (1.5.0)\n",
      "Requirement already satisfied: jupyterlab-pygments in /Users/zahurul/miniforge3/envs/torch-gpu/lib/python3.10/site-packages (from nbconvert>=5->notebook>=4.4.1->widgetsnbextension~=3.6.0->ipywidgets<8,>=7) (0.2.2)\n",
      "Requirement already satisfied: markupsafe>=2.0 in /Users/zahurul/miniforge3/envs/torch-gpu/lib/python3.10/site-packages (from nbconvert>=5->notebook>=4.4.1->widgetsnbextension~=3.6.0->ipywidgets<8,>=7) (2.1.1)\n",
      "Requirement already satisfied: tinycss2 in /Users/zahurul/miniforge3/envs/torch-gpu/lib/python3.10/site-packages (from nbconvert>=5->notebook>=4.4.1->widgetsnbextension~=3.6.0->ipywidgets<8,>=7) (1.1.1)\n",
      "Requirement already satisfied: bleach in /Users/zahurul/miniforge3/envs/torch-gpu/lib/python3.10/site-packages (from nbconvert>=5->notebook>=4.4.1->widgetsnbextension~=3.6.0->ipywidgets<8,>=7) (5.0.1)\n",
      "Requirement already satisfied: mistune<3,>=2.0.3 in /Users/zahurul/miniforge3/envs/torch-gpu/lib/python3.10/site-packages (from nbconvert>=5->notebook>=4.4.1->widgetsnbextension~=3.6.0->ipywidgets<8,>=7) (2.0.4)\n",
      "Requirement already satisfied: nbclient>=0.5.0 in /Users/zahurul/miniforge3/envs/torch-gpu/lib/python3.10/site-packages (from nbconvert>=5->notebook>=4.4.1->widgetsnbextension~=3.6.0->ipywidgets<8,>=7) (0.6.8)\n",
      "Requirement already satisfied: beautifulsoup4 in /Users/zahurul/miniforge3/envs/torch-gpu/lib/python3.10/site-packages (from nbconvert>=5->notebook>=4.4.1->widgetsnbextension~=3.6.0->ipywidgets<8,>=7) (4.11.1)\n",
      "Requirement already satisfied: defusedxml in /Users/zahurul/miniforge3/envs/torch-gpu/lib/python3.10/site-packages (from nbconvert>=5->notebook>=4.4.1->widgetsnbextension~=3.6.0->ipywidgets<8,>=7) (0.7.1)\n",
      "Requirement already satisfied: lxml in /Users/zahurul/miniforge3/envs/torch-gpu/lib/python3.10/site-packages (from nbconvert>=5->notebook>=4.4.1->widgetsnbextension~=3.6.0->ipywidgets<8,>=7) (4.9.1)\n",
      "Requirement already satisfied: fastjsonschema in /Users/zahurul/miniforge3/envs/torch-gpu/lib/python3.10/site-packages (from nbformat->notebook>=4.4.1->widgetsnbextension~=3.6.0->ipywidgets<8,>=7) (2.16.1)\n",
      "Requirement already satisfied: jsonschema>=2.6 in /Users/zahurul/miniforge3/envs/torch-gpu/lib/python3.10/site-packages (from nbformat->notebook>=4.4.1->widgetsnbextension~=3.6.0->ipywidgets<8,>=7) (4.16.0)\n",
      "Requirement already satisfied: six>=1.5 in /Users/zahurul/miniforge3/envs/torch-gpu/lib/python3.10/site-packages (from python-dateutil>=2.8.2->jupyter-client>=6.1.12->ipykernel>=4.5.1->ipywidgets<8,>=7) (1.16.0)\n",
      "Requirement already satisfied: argon2-cffi-bindings in /Users/zahurul/miniforge3/envs/torch-gpu/lib/python3.10/site-packages (from argon2-cffi->notebook>=4.4.1->widgetsnbextension~=3.6.0->ipywidgets<8,>=7) (21.2.0)\n",
      "Requirement already satisfied: pyrsistent!=0.17.0,!=0.17.1,!=0.17.2,>=0.14.0 in /Users/zahurul/miniforge3/envs/torch-gpu/lib/python3.10/site-packages (from jsonschema>=2.6->nbformat->notebook>=4.4.1->widgetsnbextension~=3.6.0->ipywidgets<8,>=7) (0.18.0)\n",
      "Requirement already satisfied: attrs>=17.4.0 in /Users/zahurul/miniforge3/envs/torch-gpu/lib/python3.10/site-packages (from jsonschema>=2.6->nbformat->notebook>=4.4.1->widgetsnbextension~=3.6.0->ipywidgets<8,>=7) (22.1.0)\n",
      "Requirement already satisfied: cffi>=1.0.1 in /Users/zahurul/miniforge3/envs/torch-gpu/lib/python3.10/site-packages (from argon2-cffi-bindings->argon2-cffi->notebook>=4.4.1->widgetsnbextension~=3.6.0->ipywidgets<8,>=7) (1.15.1)\n",
      "Requirement already satisfied: soupsieve>1.2 in /Users/zahurul/miniforge3/envs/torch-gpu/lib/python3.10/site-packages (from beautifulsoup4->nbconvert>=5->notebook>=4.4.1->widgetsnbextension~=3.6.0->ipywidgets<8,>=7) (2.3.2.post1)\n",
      "Requirement already satisfied: webencodings in /Users/zahurul/miniforge3/envs/torch-gpu/lib/python3.10/site-packages (from bleach->nbconvert>=5->notebook>=4.4.1->widgetsnbextension~=3.6.0->ipywidgets<8,>=7) (0.5.1)\n",
      "Requirement already satisfied: pycparser in /Users/zahurul/miniforge3/envs/torch-gpu/lib/python3.10/site-packages (from cffi>=1.0.1->argon2-cffi-bindings->argon2-cffi->notebook>=4.4.1->widgetsnbextension~=3.6.0->ipywidgets<8,>=7) (2.21)\n",
      "Installing collected packages: jupyterlab-widgets, widgetsnbextension, ipywidgets\n",
      "  Attempting uninstall: jupyterlab-widgets\n",
      "    Found existing installation: jupyterlab-widgets 3.0.3\n",
      "    Uninstalling jupyterlab-widgets-3.0.3:\n",
      "      Successfully uninstalled jupyterlab-widgets-3.0.3\n",
      "  Attempting uninstall: widgetsnbextension\n",
      "    Found existing installation: widgetsnbextension 4.0.3\n",
      "    Uninstalling widgetsnbextension-4.0.3:\n",
      "      Successfully uninstalled widgetsnbextension-4.0.3\n",
      "  Attempting uninstall: ipywidgets\n",
      "    Found existing installation: ipywidgets 8.0.2\n",
      "    Uninstalling ipywidgets-8.0.2:\n",
      "      Successfully uninstalled ipywidgets-8.0.2\n",
      "Successfully installed ipywidgets-7.7.2 jupyterlab-widgets-1.1.1 widgetsnbextension-3.6.1\n"
     ]
    }
   ],
   "source": [
    "!pip install diffusers==0.4.0\n",
    "!pip install transformers \n",
    "!pip install \"ipywidgets>=7,<8\"\n",
    "import torch\n",
    "from diffusers import StableDiffusionPipeline"
   ]
  },
  {
   "cell_type": "markdown",
   "id": "817918c6-89a7-401f-bf20-a8112878d866",
   "metadata": {},
   "source": [
    "#### We will use a pre-trained model from huggenface. That why we need a authentication key from hugging face. We can have a authetication key from: https://huggingface.co/docs/hub/security-tokens/ ."
   ]
  },
  {
   "cell_type": "code",
   "execution_count": 2,
   "id": "ad17b3fd-a132-4e46-8fa7-b1dbfbcb7678",
   "metadata": {},
   "outputs": [],
   "source": [
    "auth_token = 'Put here your hugingface authentication token'"
   ]
  },
  {
   "cell_type": "markdown",
   "id": "770fe481-f1f0-48bd-92cf-30e0cfe5ce48",
   "metadata": {},
   "source": [
    "#### Now we have to load the pretrained model from huggingface. It is necessery to ensure that every free Google Colab can run Stable Diffusion, hence we're loading the weights from the half-precision branch fp16 and also tell diffusers to expect the weights in float16 precision by passing torch_dtype=torch.float16."
   ]
  },
  {
   "cell_type": "code",
   "execution_count": null,
   "id": "a5176b80-9b3e-48b8-a6ae-a0ae175f074f",
   "metadata": {},
   "outputs": [],
   "source": [
    "pipe = StableDiffusionPipeline.from_pretrained(\"CompVis/stable-diffusion-v1-4\", revision=\"fp16\", torch_dtype=torch.float16,use_auth_token=auth_token)  "
   ]
  },
  {
   "cell_type": "markdown",
   "id": "7bcc1c5c-ea64-43a6-aa0a-a198bc79e914",
   "metadata": {},
   "source": [
    "#### Now we need to move the pipeline to GPU. It will inference faster."
   ]
  },
  {
   "cell_type": "code",
   "execution_count": null,
   "id": "76187971-5941-40b3-b574-9fe3ee3a3240",
   "metadata": {},
   "outputs": [],
   "source": [
    "pipe = pipe.to(\"cuda\")"
   ]
  },
  {
   "cell_type": "markdown",
   "id": "cef86eb1-aed6-4c6a-b726-748723f5f6fb",
   "metadata": {},
   "source": [
    "#### Now we can run the inference. The input will be text and the model will generate a random image based on the input text."
   ]
  },
  {
   "cell_type": "code",
   "execution_count": null,
   "id": "477862f1-705e-429e-aca2-b8b0ed6b5b3e",
   "metadata": {},
   "outputs": [],
   "source": [
    "prompt = \"A girl is playing chess\"\n",
    "image = pipe(prompt).images[0]  \n",
    "\n",
    "# Now to display an image you can do either save it such as:\n",
    "image.save(f\"tmp_image.png\")\n",
    "\n",
    "# or if you're in a google colab you can directly display it with \n",
    "image"
   ]
  },
  {
   "cell_type": "markdown",
   "id": "211aabac-fd6e-4de6-a53f-e827f43998e4",
   "metadata": {},
   "source": [
    "####  If we want a deterministic output, we need to pass a random seed to the pipe. It will generate the same imgage with the same seed. "
   ]
  },
  {
   "cell_type": "code",
   "execution_count": null,
   "id": "7bc3215b-94e8-4951-89ad-8fbe7a5f755b",
   "metadata": {},
   "outputs": [],
   "source": [
    "prompt = \"A girl is playing chess\"\n",
    "generator = torch.Generator(\"cuda\").manual_seed(1024)\n",
    "\n",
    "image = pipe(prompt, generator=generator).images[0]\n",
    "\n",
    "image"
   ]
  }
 ],
 "metadata": {
  "kernelspec": {
   "display_name": "Python 3 (ipykernel)",
   "language": "python",
   "name": "python3"
  },
  "language_info": {
   "codemirror_mode": {
    "name": "ipython",
    "version": 3
   },
   "file_extension": ".py",
   "mimetype": "text/x-python",
   "name": "python",
   "nbconvert_exporter": "python",
   "pygments_lexer": "ipython3",
   "version": "3.10.6"
  }
 },
 "nbformat": 4,
 "nbformat_minor": 5
}
